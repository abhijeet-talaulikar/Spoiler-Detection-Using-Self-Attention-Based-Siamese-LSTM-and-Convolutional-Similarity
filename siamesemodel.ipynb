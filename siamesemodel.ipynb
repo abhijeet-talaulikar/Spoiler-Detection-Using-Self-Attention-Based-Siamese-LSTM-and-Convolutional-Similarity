{
  "cells": [
    {
      "cell_type": "code",
      "execution_count": null,
      "metadata": {
        "colab": {
          "base_uri": "https://localhost:8080/"
        },
        "id": "f7KypBlO_fw5",
        "outputId": "b59f6e1c-8636-4440-f9d9-56f3332f0f05"
      },
      "outputs": [
        {
          "output_type": "stream",
          "name": "stdout",
          "text": [
            "2.8.0\n",
            "[nltk_data] Downloading package stopwords to /root/nltk_data...\n",
            "[nltk_data]   Package stopwords is already up-to-date!\n"
          ]
        }
      ],
      "source": [
        "import pandas as pd \n",
        "import numpy as np\n",
        "import matplotlib.pyplot as plt\n",
        "\n",
        "from sklearn.preprocessing import LabelEncoder\n",
        "from sklearn.model_selection import train_test_split\n",
        "from sklearn.metrics import classification_report,confusion_matrix, roc_curve, roc_auc_score\n",
        "import swifter\n",
        "\n",
        "import re\n",
        "\n",
        "import nltk\n",
        "from nltk.corpus import stopwords\n",
        "from nltk.stem import PorterStemmer\n",
        "\n",
        "import tensorflow as tf \n",
        "\n",
        "print(tf. __version__)\n",
        "\n",
        "from tensorflow.keras import layers\n",
        "from tensorflow.keras.callbacks import EarlyStopping\n",
        "from tensorflow.keras.layers import TextVectorization\n",
        "nltk.download('stopwords')\n",
        "\n",
        "import visualkeras"
      ]
    },
    {
      "cell_type": "markdown",
      "metadata": {
        "id": "w8ZEZMn0_fw6"
      },
      "source": [
        "### Load and Preprocess"
      ]
    },
    {
      "cell_type": "code",
      "execution_count": null,
      "metadata": {
        "id": "1FtHuKTg_zxQ"
      },
      "outputs": [],
      "source": [
        "# import zipfile\n",
        "# with zipfile.ZipFile(\"splr.zip\", 'r') as zip_ref:\n",
        "#     zip_ref.extractall(\"data\")\n",
        "\n",
        "# import zipfile\n",
        "# with zipfile.ZipFile(\"glove.6B.50d.txt.zip\", 'r') as zip_ref:\n",
        "#     zip_ref.extractall(\"data\")"
      ]
    },
    {
      "cell_type": "code",
      "execution_count": null,
      "metadata": {
        "id": "GFbipuWT_fw8"
      },
      "outputs": [],
      "source": [
        "df_reviews = pd.read_json('data/IMDB_reviews.json', lines=True)\n",
        "df_details = pd.read_json('data/IMDB_movie_details.json', lines=True)"
      ]
    },
    {
      "cell_type": "code",
      "source": [
        "df_reviews.is_spoiler.value_counts()"
      ],
      "metadata": {
        "colab": {
          "base_uri": "https://localhost:8080/"
        },
        "id": "x-Kb8HTviRE4",
        "outputId": "1bb8475d-87d5-425d-ebea-7858b7cd7aab"
      },
      "execution_count": null,
      "outputs": [
        {
          "output_type": "execute_result",
          "data": {
            "text/plain": [
              "False    422989\n",
              "True     150924\n",
              "Name: is_spoiler, dtype: int64"
            ]
          },
          "metadata": {},
          "execution_count": 8
        }
      ]
    },
    {
      "cell_type": "code",
      "execution_count": null,
      "metadata": {
        "colab": {
          "base_uri": "https://localhost:8080/",
          "height": 224
        },
        "id": "I9NwSpfA_fw8",
        "outputId": "9c9a8d33-d9db-45c4-9df8-17fc2caa5a4c"
      },
      "outputs": [
        {
          "output_type": "stream",
          "name": "stdout",
          "text": [
            "(298968, 3)\n"
          ]
        },
        {
          "output_type": "execute_result",
          "data": {
            "text/plain": [
              "                                         review_text  \\\n",
              "0  Whine whine whine and complain about this movi...   \n",
              "1  I never saw any of the old series (which was n...   \n",
              "2  I had to write a review the average is six in ...   \n",
              "3  I am a native japanese residing in Tokyo, very...   \n",
              "4  This was a fill-in movie that was impressive a...   \n",
              "\n",
              "                                        plot_summary  is_spoiler  \n",
              "0  Willie T. Stokes is a convicted con man who's ...           0  \n",
              "1  The Doctor, a Time Lord/Lady from the race who...           1  \n",
              "2  Stranded after a tragic plane crash, two stran...           0  \n",
              "3  In the 1870s, Captain Nathan Algren, a cynical...           0  \n",
              "4  Unable to cope with reality and the difficulty...           0  "
            ],
            "text/html": [
              "\n",
              "  <div id=\"df-d6e291b3-3620-4cd6-b883-f0f432c0ef23\">\n",
              "    <div class=\"colab-df-container\">\n",
              "      <div>\n",
              "<style scoped>\n",
              "    .dataframe tbody tr th:only-of-type {\n",
              "        vertical-align: middle;\n",
              "    }\n",
              "\n",
              "    .dataframe tbody tr th {\n",
              "        vertical-align: top;\n",
              "    }\n",
              "\n",
              "    .dataframe thead th {\n",
              "        text-align: right;\n",
              "    }\n",
              "</style>\n",
              "<table border=\"1\" class=\"dataframe\">\n",
              "  <thead>\n",
              "    <tr style=\"text-align: right;\">\n",
              "      <th></th>\n",
              "      <th>review_text</th>\n",
              "      <th>plot_summary</th>\n",
              "      <th>is_spoiler</th>\n",
              "    </tr>\n",
              "  </thead>\n",
              "  <tbody>\n",
              "    <tr>\n",
              "      <th>0</th>\n",
              "      <td>Whine whine whine and complain about this movi...</td>\n",
              "      <td>Willie T. Stokes is a convicted con man who's ...</td>\n",
              "      <td>0</td>\n",
              "    </tr>\n",
              "    <tr>\n",
              "      <th>1</th>\n",
              "      <td>I never saw any of the old series (which was n...</td>\n",
              "      <td>The Doctor, a Time Lord/Lady from the race who...</td>\n",
              "      <td>1</td>\n",
              "    </tr>\n",
              "    <tr>\n",
              "      <th>2</th>\n",
              "      <td>I had to write a review the average is six in ...</td>\n",
              "      <td>Stranded after a tragic plane crash, two stran...</td>\n",
              "      <td>0</td>\n",
              "    </tr>\n",
              "    <tr>\n",
              "      <th>3</th>\n",
              "      <td>I am a native japanese residing in Tokyo, very...</td>\n",
              "      <td>In the 1870s, Captain Nathan Algren, a cynical...</td>\n",
              "      <td>0</td>\n",
              "    </tr>\n",
              "    <tr>\n",
              "      <th>4</th>\n",
              "      <td>This was a fill-in movie that was impressive a...</td>\n",
              "      <td>Unable to cope with reality and the difficulty...</td>\n",
              "      <td>0</td>\n",
              "    </tr>\n",
              "  </tbody>\n",
              "</table>\n",
              "</div>\n",
              "      <button class=\"colab-df-convert\" onclick=\"convertToInteractive('df-d6e291b3-3620-4cd6-b883-f0f432c0ef23')\"\n",
              "              title=\"Convert this dataframe to an interactive table.\"\n",
              "              style=\"display:none;\">\n",
              "        \n",
              "  <svg xmlns=\"http://www.w3.org/2000/svg\" height=\"24px\"viewBox=\"0 0 24 24\"\n",
              "       width=\"24px\">\n",
              "    <path d=\"M0 0h24v24H0V0z\" fill=\"none\"/>\n",
              "    <path d=\"M18.56 5.44l.94 2.06.94-2.06 2.06-.94-2.06-.94-.94-2.06-.94 2.06-2.06.94zm-11 1L8.5 8.5l.94-2.06 2.06-.94-2.06-.94L8.5 2.5l-.94 2.06-2.06.94zm10 10l.94 2.06.94-2.06 2.06-.94-2.06-.94-.94-2.06-.94 2.06-2.06.94z\"/><path d=\"M17.41 7.96l-1.37-1.37c-.4-.4-.92-.59-1.43-.59-.52 0-1.04.2-1.43.59L10.3 9.45l-7.72 7.72c-.78.78-.78 2.05 0 2.83L4 21.41c.39.39.9.59 1.41.59.51 0 1.02-.2 1.41-.59l7.78-7.78 2.81-2.81c.8-.78.8-2.07 0-2.86zM5.41 20L4 18.59l7.72-7.72 1.47 1.35L5.41 20z\"/>\n",
              "  </svg>\n",
              "      </button>\n",
              "      \n",
              "  <style>\n",
              "    .colab-df-container {\n",
              "      display:flex;\n",
              "      flex-wrap:wrap;\n",
              "      gap: 12px;\n",
              "    }\n",
              "\n",
              "    .colab-df-convert {\n",
              "      background-color: #E8F0FE;\n",
              "      border: none;\n",
              "      border-radius: 50%;\n",
              "      cursor: pointer;\n",
              "      display: none;\n",
              "      fill: #1967D2;\n",
              "      height: 32px;\n",
              "      padding: 0 0 0 0;\n",
              "      width: 32px;\n",
              "    }\n",
              "\n",
              "    .colab-df-convert:hover {\n",
              "      background-color: #E2EBFA;\n",
              "      box-shadow: 0px 1px 2px rgba(60, 64, 67, 0.3), 0px 1px 3px 1px rgba(60, 64, 67, 0.15);\n",
              "      fill: #174EA6;\n",
              "    }\n",
              "\n",
              "    [theme=dark] .colab-df-convert {\n",
              "      background-color: #3B4455;\n",
              "      fill: #D2E3FC;\n",
              "    }\n",
              "\n",
              "    [theme=dark] .colab-df-convert:hover {\n",
              "      background-color: #434B5C;\n",
              "      box-shadow: 0px 1px 3px 1px rgba(0, 0, 0, 0.15);\n",
              "      filter: drop-shadow(0px 1px 2px rgba(0, 0, 0, 0.3));\n",
              "      fill: #FFFFFF;\n",
              "    }\n",
              "  </style>\n",
              "\n",
              "      <script>\n",
              "        const buttonEl =\n",
              "          document.querySelector('#df-d6e291b3-3620-4cd6-b883-f0f432c0ef23 button.colab-df-convert');\n",
              "        buttonEl.style.display =\n",
              "          google.colab.kernel.accessAllowed ? 'block' : 'none';\n",
              "\n",
              "        async function convertToInteractive(key) {\n",
              "          const element = document.querySelector('#df-d6e291b3-3620-4cd6-b883-f0f432c0ef23');\n",
              "          const dataTable =\n",
              "            await google.colab.kernel.invokeFunction('convertToInteractive',\n",
              "                                                     [key], {});\n",
              "          if (!dataTable) return;\n",
              "\n",
              "          const docLinkHtml = 'Like what you see? Visit the ' +\n",
              "            '<a target=\"_blank\" href=https://colab.research.google.com/notebooks/data_table.ipynb>data table notebook</a>'\n",
              "            + ' to learn more about interactive tables.';\n",
              "          element.innerHTML = '';\n",
              "          dataTable['output_type'] = 'display_data';\n",
              "          await google.colab.output.renderOutput(dataTable, element);\n",
              "          const docLink = document.createElement('div');\n",
              "          docLink.innerHTML = docLinkHtml;\n",
              "          element.appendChild(docLink);\n",
              "        }\n",
              "      </script>\n",
              "    </div>\n",
              "  </div>\n",
              "  "
            ]
          },
          "metadata": {},
          "execution_count": 9
        }
      ],
      "source": [
        "df = pd.merge(df_reviews[['movie_id','review_text','is_spoiler']], df_details[['movie_id','plot_summary']], on='movie_id')\n",
        "df = pd.concat([df[df.is_spoiler].sample(frac=1, replace=True), df[~df.is_spoiler].sample(frac=0.35)]).sample(frac=1).reset_index(drop=True)\n",
        "#df = df.groupby('is_spoiler', group_keys=False).apply(lambda x: x.sample(frac=0.5))\n",
        "df['is_spoiler'] = (df['is_spoiler'] == True).astype(int)\n",
        "df = df[['review_text','plot_summary','is_spoiler']]\n",
        "print(df.shape)\n",
        "df.head()"
      ]
    },
    {
      "cell_type": "code",
      "source": [
        "df.is_spoiler.value_counts()"
      ],
      "metadata": {
        "colab": {
          "base_uri": "https://localhost:8080/"
        },
        "id": "ttrYluDK-kj8",
        "outputId": "f6790747-709a-4edf-a414-c11fceae57d6"
      },
      "execution_count": null,
      "outputs": [
        {
          "output_type": "execute_result",
          "data": {
            "text/plain": [
              "1    150924\n",
              "0    148044\n",
              "Name: is_spoiler, dtype: int64"
            ]
          },
          "metadata": {},
          "execution_count": 10
        }
      ]
    },
    {
      "cell_type": "code",
      "execution_count": null,
      "metadata": {
        "id": "jM7UmiHU_fw9"
      },
      "outputs": [],
      "source": [
        "sw = stopwords.words('english')\n",
        "ps = PorterStemmer()\n",
        "\n",
        "def preprocess_text(review):\n",
        "    review = review.lower() # Convert to lowercase\n",
        "    review = re.sub('[^a-zA-Z]',' ', review) # Remove words with non-letter characters\n",
        "    words = review.split()\n",
        "    words = [word for word in words if word not in sw] # Remove stop words\n",
        "    review = \" \".join(words)\n",
        "    return review"
      ]
    },
    {
      "cell_type": "code",
      "execution_count": null,
      "metadata": {
        "colab": {
          "base_uri": "https://localhost:8080/",
          "height": 81,
          "referenced_widgets": [
            "408eb4afd5144f559e9dbf5028994b32",
            "e1c2a173312b461b9f47b05219a6febb",
            "74b03eb78b614775807c0d608f16509c",
            "dfdf0dda86f94b55a1a84313f7a2a050",
            "b1afd47fbaed4496ba4c1790c914586c",
            "3215b69431034b5c9053a2632dd94e9d",
            "405c707b9e694ee8b3e3c48dc403254c",
            "dd686974f8af4c9595a069b519a31498",
            "8fe28cebebed4738b255f204c39feef9",
            "7098fcac92404684ae0b979db10ef546",
            "cb6af9b35b0c4b51b13b0c601c561437",
            "7b91d19400234db2b7da38295bd0c9b0",
            "baed008675c04dfc848dc205861f4680",
            "92ecb019d3e947c7a7f5e0a6d8b32970",
            "f572c222bf7c4c1e92844188f16917f7",
            "285066ec08a24bd49b67a08d9eb31ab4",
            "6c0d17dac81244f9ae65b8e0b618a4dd",
            "b42ccb9e5a6148e29f7b26ee48427829",
            "26f903fb65854305a89e587ab28a7796",
            "0b32a6d5af684270babd3247a875d7a8",
            "3f35a49b0a6d40b0adc294e8dac9cb71",
            "1287b85d5eb847f2876242a23d2146d3"
          ]
        },
        "id": "fzji75WY_fw-",
        "outputId": "7627f9dd-2a02-4eb5-e3f4-f7dd5f1d27d4"
      },
      "outputs": [
        {
          "output_type": "display_data",
          "data": {
            "text/plain": [
              "Pandas Apply:   0%|          | 0/298968 [00:00<?, ?it/s]"
            ],
            "application/vnd.jupyter.widget-view+json": {
              "version_major": 2,
              "version_minor": 0,
              "model_id": "408eb4afd5144f559e9dbf5028994b32"
            }
          },
          "metadata": {}
        },
        {
          "output_type": "display_data",
          "data": {
            "text/plain": [
              "Pandas Apply:   0%|          | 0/298968 [00:00<?, ?it/s]"
            ],
            "application/vnd.jupyter.widget-view+json": {
              "version_major": 2,
              "version_minor": 0,
              "model_id": "7b91d19400234db2b7da38295bd0c9b0"
            }
          },
          "metadata": {}
        }
      ],
      "source": [
        "df['review_text'] = df['review_text'].swifter.apply(preprocess_text)\n",
        "df['plot_summary'] = df['plot_summary'].swifter.apply(preprocess_text)"
      ]
    },
    {
      "cell_type": "markdown",
      "metadata": {
        "id": "V2WO431b_fw_"
      },
      "source": [
        "### Train test split"
      ]
    },
    {
      "cell_type": "code",
      "execution_count": null,
      "metadata": {
        "id": "uL2QvMMu_fxA"
      },
      "outputs": [],
      "source": [
        "train_df, val_df = train_test_split(df, test_size=0.25, stratify=df['is_spoiler'])"
      ]
    },
    {
      "cell_type": "markdown",
      "metadata": {
        "id": "ZZ85y0R5_fxB"
      },
      "source": [
        "### Create text vectorizer"
      ]
    },
    {
      "cell_type": "code",
      "execution_count": null,
      "metadata": {
        "id": "kRg7nSS9_fxB"
      },
      "outputs": [],
      "source": [
        "review_lens = [len(sentence.split()) for sentence in train_df['review_text']]\n",
        "plot_lens = [len(sentence.split()) for sentence in train_df['plot_summary']]"
      ]
    },
    {
      "cell_type": "code",
      "execution_count": null,
      "metadata": {
        "id": "IEh6L3bP_fxB"
      },
      "outputs": [],
      "source": [
        "train_sentences = list(pd.concat([train_df['review_text'], train_df['plot_summary']]))\n",
        "train_reviews = list(train_df['review_text'])\n",
        "train_plots = list(train_df['plot_summary'])\n",
        "train_labels = list(train_df['is_spoiler'])"
      ]
    },
    {
      "cell_type": "code",
      "execution_count": null,
      "metadata": {
        "id": "Giw85zLZ_fxC"
      },
      "outputs": [],
      "source": [
        "val_reviews = list(val_df['review_text'])\n",
        "val_plots = list(val_df['plot_summary'])\n",
        "val_labels = list(val_df['is_spoiler'])"
      ]
    },
    {
      "cell_type": "code",
      "execution_count": null,
      "metadata": {
        "colab": {
          "base_uri": "https://localhost:8080/"
        },
        "id": "C3bqWqlv_fxC",
        "outputId": "3ceabeef-eb83-4926-a106-e4c594e2ea4e"
      },
      "outputs": [
        {
          "output_type": "execute_result",
          "data": {
            "text/plain": [
              "(146.01325448431493, 59.655468143747825)"
            ]
          },
          "metadata": {},
          "execution_count": 17
        }
      ],
      "source": [
        "avg_review_len, avg_plot_len = np.mean(review_lens), np.mean(plot_lens)\n",
        "avg_review_len, avg_plot_len"
      ]
    },
    {
      "cell_type": "code",
      "execution_count": null,
      "metadata": {
        "id": "DFR6ORa3_fxD"
      },
      "outputs": [],
      "source": [
        "max_tokens = 50000\n",
        "output_seq_len = int(max(avg_review_len, avg_plot_len))"
      ]
    },
    {
      "cell_type": "code",
      "execution_count": null,
      "metadata": {
        "id": "h-6C84te_fxD"
      },
      "outputs": [],
      "source": [
        "del df_reviews\n",
        "del df_details\n",
        "del df"
      ]
    },
    {
      "cell_type": "code",
      "execution_count": null,
      "metadata": {
        "id": "6Qj7njJx_fxD"
      },
      "outputs": [],
      "source": [
        "text_vectorizer = TextVectorization(max_tokens=max_tokens, output_sequence_length=output_seq_len)"
      ]
    },
    {
      "cell_type": "code",
      "execution_count": null,
      "metadata": {
        "id": "NXcdJwxZ_fxE"
      },
      "outputs": [],
      "source": [
        "text_vectorizer.adapt(train_sentences)"
      ]
    },
    {
      "cell_type": "code",
      "execution_count": null,
      "metadata": {
        "id": "7wI2MWLN_fxE"
      },
      "outputs": [],
      "source": [
        "text_vocab = text_vectorizer.get_vocabulary()"
      ]
    },
    {
      "cell_type": "code",
      "execution_count": null,
      "metadata": {
        "id": "hE32gIs8If6B"
      },
      "outputs": [],
      "source": [
        "del train_sentences"
      ]
    },
    {
      "cell_type": "markdown",
      "metadata": {
        "id": "1tXZCsAc_fxE"
      },
      "source": [
        "### Create dataset"
      ]
    },
    {
      "cell_type": "code",
      "execution_count": null,
      "metadata": {
        "id": "PV9sxM61_fxE"
      },
      "outputs": [],
      "source": [
        "train_dataset = tf.data.Dataset.from_tensor_slices(((train_reviews, train_plots), train_labels))\n",
        "val_dataset = tf.data.Dataset.from_tensor_slices(((val_reviews, val_plots), val_labels))"
      ]
    },
    {
      "cell_type": "code",
      "execution_count": null,
      "metadata": {
        "id": "lsG-kfc8_fxF"
      },
      "outputs": [],
      "source": [
        "train_dataset = train_dataset.batch(512).prefetch(tf.data.AUTOTUNE)\n",
        "val_dataset = val_dataset.batch(512).prefetch(tf.data.AUTOTUNE)"
      ]
    },
    {
      "cell_type": "markdown",
      "metadata": {
        "id": "ExikvIiz_fxF"
      },
      "source": [
        "### Create Model"
      ]
    },
    {
      "cell_type": "code",
      "execution_count": null,
      "metadata": {
        "id": "MdXm7pV9_fxF"
      },
      "outputs": [],
      "source": [
        "class TextCNN(tf.keras.Model):\n",
        "\n",
        "    def __init__(self,\n",
        "                 token_embed,\n",
        "                 text_vectorizer,\n",
        "                 kernel_sizes,\n",
        "                 dropout_rate=0.4,\n",
        "                 dilation_rate=1\n",
        "                 ):\n",
        "        super(TextCNN, self).__init__()\n",
        "        self.token_embed = token_embed\n",
        "        self.text_vectorizer = text_vectorizer\n",
        "        self.kernel_sizes = kernel_sizes\n",
        "        self.convs = []\n",
        "        \n",
        "        self.bi_lstm = layers.Bidirectional(layers.LSTM(16, return_sequences=True, return_state=False))\n",
        "\n",
        "        for i, kernel_size in enumerate(self.kernel_sizes):\n",
        "            self.convs.append(layers.Conv1D(16, kernel_size, activation='relu', dilation_rate=dilation_rate))\n",
        "        \n",
        "        self.max_pooling = layers.GlobalMaxPooling1D()\n",
        "        \n",
        "        self.classifier = tf.keras.Sequential(\n",
        "                    [\n",
        "                      layers.Dropout(dropout_rate),\n",
        "                      layers.Dense(64, activation=\"relu\"),\n",
        "                      layers.Dropout(dropout_rate),\n",
        "                      layers.Dense(64, activation=\"relu\")\n",
        "                    ]\n",
        "                  )\n",
        "        \n",
        "        self.attention = layers.Attention(use_scale=True)\n",
        "        \n",
        "        self.similarity = tf.keras.Sequential(\n",
        "                    [\n",
        "                      layers.Dot(axes=1, normalize=True),\n",
        "                      layers.Dense(1, activation=\"sigmoid\")\n",
        "                    ]\n",
        "                  )\n",
        "\n",
        "    def call(self, inputs):\n",
        "\n",
        "        review_inputs, plot_inputs = inputs\n",
        "        \n",
        "        review_vectors = self.text_vectorizer(review_inputs)\n",
        "        plot_vectors = self.text_vectorizer(plot_inputs)\n",
        "        \n",
        "        review_embeddings = self.token_embed(review_vectors)\n",
        "        plot_embeddings = self.token_embed(plot_vectors)\n",
        "        \n",
        "        review_embeddings_bilstm = self.bi_lstm(review_embeddings)\n",
        "        plot_embeddings_bilstm = self.bi_lstm(plot_embeddings) \n",
        "        \n",
        "        r = layers.Dropout(0.2)(review_embeddings_bilstm)\n",
        "        for i, k in enumerate(self.kernel_sizes):\n",
        "            r = self.convs[i](r)\n",
        "        \n",
        "        r = self.max_pooling(r)\n",
        "        r = self.attention([r,r])\n",
        "        r = self.classifier(r)\n",
        "        \n",
        "        p = layers.Dropout(0.2)(plot_embeddings_bilstm)\n",
        "        for i, k in enumerate(self.kernel_sizes):\n",
        "            p = self.convs[i](p)\n",
        "        \n",
        "        p = self.max_pooling(p)\n",
        "        p = self.attention([p,p])\n",
        "        p = self.classifier(p)\n",
        "        \n",
        "        output = self.similarity([r, p])\n",
        "        \n",
        "        return output"
      ]
    },
    {
      "cell_type": "markdown",
      "source": [
        "### Create embeddings"
      ],
      "metadata": {
        "id": "e_x7_DmlgJ7e"
      }
    },
    {
      "cell_type": "code",
      "source": [
        "embeddings_index = dict()\n",
        "f = open('data/glove.6B.50d.txt')\n",
        "for line in f:\n",
        "    values = line.split()\n",
        "    word = values[0]\n",
        "    coefs = np.asarray(values[1:], dtype='float32')\n",
        "    embeddings_index[word] = coefs\n",
        "f.close()"
      ],
      "metadata": {
        "id": "2sTLEKPJgHRo"
      },
      "execution_count": null,
      "outputs": []
    },
    {
      "cell_type": "code",
      "source": [
        "embedding_matrix = np.zeros((len(text_vocab), 50))\n",
        "for i, word in enumerate(text_vocab):\n",
        "    embedding_vector = embeddings_index.get(word)\n",
        "    if embedding_vector is not None:\n",
        "        embedding_matrix[i] = embedding_vector"
      ],
      "metadata": {
        "id": "Y1ee_sHSgcbX"
      },
      "execution_count": null,
      "outputs": []
    },
    {
      "cell_type": "code",
      "execution_count": null,
      "metadata": {
        "id": "BBDf-PB9_fxH"
      },
      "outputs": [],
      "source": [
        "token_embed = layers.Embedding(input_dim=len(text_vocab), output_dim=50, mask_zero=True, weights=[embedding_matrix], trainable=True)"
      ]
    },
    {
      "cell_type": "markdown",
      "metadata": {
        "id": "N1e8CcrC_fxH"
      },
      "source": [
        "### Train the model"
      ]
    },
    {
      "cell_type": "code",
      "execution_count": null,
      "metadata": {
        "id": "yCllRHiE_fxH"
      },
      "outputs": [],
      "source": [
        "model = TextCNN(token_embed, text_vectorizer, kernel_sizes=[2], dilation_rate=1)"
      ]
    },
    {
      "cell_type": "code",
      "execution_count": null,
      "metadata": {
        "colab": {
          "base_uri": "https://localhost:8080/"
        },
        "id": "ps_rIklE_fxH",
        "outputId": "05a05249-5564-4c4b-863f-fa7c17bfb701"
      },
      "outputs": [
        {
          "output_type": "stream",
          "name": "stdout",
          "text": [
            "Epoch 1/50\n",
            "WARNING:tensorflow:Layers in a Sequential model should only have a single input tensor. Received: inputs=[<tf.Tensor 'text_cnn_2/sequential_4/dense_7/Relu:0' shape=(None, 64) dtype=float32>, <tf.Tensor 'text_cnn_2/sequential_4/dense_7/Relu_1:0' shape=(None, 64) dtype=float32>]. Consider rewriting this model with the Functional API.\n",
            "WARNING:tensorflow:Layers in a Sequential model should only have a single input tensor. Received: inputs=[<tf.Tensor 'text_cnn_2/sequential_4/dense_7/Relu:0' shape=(None, 64) dtype=float32>, <tf.Tensor 'text_cnn_2/sequential_4/dense_7/Relu_1:0' shape=(None, 64) dtype=float32>]. Consider rewriting this model with the Functional API.\n",
            "438/438 [==============================] - ETA: 0s - loss: 0.6825 - accuracy: 0.5573WARNING:tensorflow:Layers in a Sequential model should only have a single input tensor. Received: inputs=[<tf.Tensor 'text_cnn_2/sequential_4/dense_7/Relu:0' shape=(None, 64) dtype=float32>, <tf.Tensor 'text_cnn_2/sequential_4/dense_7/Relu_1:0' shape=(None, 64) dtype=float32>]. Consider rewriting this model with the Functional API.\n",
            "438/438 [==============================] - 56s 96ms/step - loss: 0.6825 - accuracy: 0.5573 - val_loss: 0.6376 - val_accuracy: 0.6810\n",
            "Epoch 2/50\n",
            "438/438 [==============================] - 38s 86ms/step - loss: 0.5997 - accuracy: 0.7239 - val_loss: 0.6238 - val_accuracy: 0.6767\n",
            "Epoch 3/50\n",
            "438/438 [==============================] - 38s 86ms/step - loss: 0.5663 - accuracy: 0.7514 - val_loss: 0.6127 - val_accuracy: 0.6919\n",
            "Epoch 4/50\n",
            "438/438 [==============================] - 38s 86ms/step - loss: 0.5479 - accuracy: 0.7642 - val_loss: 0.6053 - val_accuracy: 0.7074\n",
            "Epoch 5/50\n",
            "438/438 [==============================] - 38s 86ms/step - loss: 0.5364 - accuracy: 0.7720 - val_loss: 0.6074 - val_accuracy: 0.7081\n",
            "Epoch 6/50\n",
            "438/438 [==============================] - 37s 86ms/step - loss: 0.5260 - accuracy: 0.7793 - val_loss: 0.6067 - val_accuracy: 0.7117\n",
            "Epoch 7/50\n",
            "438/438 [==============================] - 37s 86ms/step - loss: 0.5196 - accuracy: 0.7842 - val_loss: 0.6087 - val_accuracy: 0.7129\n",
            "Epoch 8/50\n",
            "438/438 [==============================] - 37s 86ms/step - loss: 0.5118 - accuracy: 0.7901 - val_loss: 0.6159 - val_accuracy: 0.7102\n",
            "Epoch 9/50\n",
            "438/438 [==============================] - 37s 86ms/step - loss: 0.5093 - accuracy: 0.7920 - val_loss: 0.6141 - val_accuracy: 0.7128\n",
            "Epoch 10/50\n",
            "438/438 [==============================] - 38s 86ms/step - loss: 0.5042 - accuracy: 0.7959 - val_loss: 0.6207 - val_accuracy: 0.7104\n",
            "Epoch 11/50\n",
            "438/438 [==============================] - 38s 86ms/step - loss: 0.5033 - accuracy: 0.7964 - val_loss: 0.6134 - val_accuracy: 0.7146\n",
            "Epoch 12/50\n",
            "438/438 [==============================] - 38s 87ms/step - loss: 0.4969 - accuracy: 0.8017 - val_loss: 0.6161 - val_accuracy: 0.7142\n",
            "Epoch 13/50\n",
            "438/438 [==============================] - 38s 86ms/step - loss: 0.4953 - accuracy: 0.8026 - val_loss: 0.6144 - val_accuracy: 0.7173\n",
            "Epoch 14/50\n",
            "438/438 [==============================] - 38s 86ms/step - loss: 0.4945 - accuracy: 0.8032 - val_loss: 0.6235 - val_accuracy: 0.7097\n",
            "Epoch 15/50\n",
            "438/438 [==============================] - 38s 86ms/step - loss: 0.4922 - accuracy: 0.8049 - val_loss: 0.6155 - val_accuracy: 0.7171\n",
            "Epoch 16/50\n",
            "438/438 [==============================] - 38s 86ms/step - loss: 0.4912 - accuracy: 0.8056 - val_loss: 0.6235 - val_accuracy: 0.7127\n",
            "Epoch 17/50\n",
            "438/438 [==============================] - 37s 86ms/step - loss: 0.4886 - accuracy: 0.8076 - val_loss: 0.6254 - val_accuracy: 0.7129\n",
            "Epoch 18/50\n",
            "438/438 [==============================] - 38s 86ms/step - loss: 0.4878 - accuracy: 0.8080 - val_loss: 0.6187 - val_accuracy: 0.7162\n",
            "Epoch 19/50\n",
            "438/438 [==============================] - 38s 86ms/step - loss: 0.4863 - accuracy: 0.8089 - val_loss: 0.6155 - val_accuracy: 0.7176\n",
            "Epoch 20/50\n",
            "438/438 [==============================] - 38s 86ms/step - loss: 0.4843 - accuracy: 0.8103 - val_loss: 0.6281 - val_accuracy: 0.7111\n",
            "Epoch 21/50\n",
            "438/438 [==============================] - 38s 86ms/step - loss: 0.4811 - accuracy: 0.8128 - val_loss: 0.6214 - val_accuracy: 0.7161\n",
            "Epoch 22/50\n",
            "438/438 [==============================] - 37s 86ms/step - loss: 0.4808 - accuracy: 0.8128 - val_loss: 0.6217 - val_accuracy: 0.7158\n",
            "Epoch 23/50\n",
            "438/438 [==============================] - 38s 86ms/step - loss: 0.4788 - accuracy: 0.8141 - val_loss: 0.6223 - val_accuracy: 0.7167\n",
            "Epoch 24/50\n",
            "438/438 [==============================] - 38s 86ms/step - loss: 0.4764 - accuracy: 0.8159 - val_loss: 0.6205 - val_accuracy: 0.7177\n",
            "Epoch 25/50\n",
            "438/438 [==============================] - 37s 86ms/step - loss: 0.4762 - accuracy: 0.8159 - val_loss: 0.6203 - val_accuracy: 0.7180\n",
            "Epoch 26/50\n",
            "438/438 [==============================] - 37s 86ms/step - loss: 0.4755 - accuracy: 0.8164 - val_loss: 0.6252 - val_accuracy: 0.7163\n",
            "Epoch 27/50\n",
            "438/438 [==============================] - 38s 86ms/step - loss: 0.4755 - accuracy: 0.8162 - val_loss: 0.6186 - val_accuracy: 0.7199\n",
            "Epoch 28/50\n",
            "438/438 [==============================] - 38s 86ms/step - loss: 0.4723 - accuracy: 0.8186 - val_loss: 0.6160 - val_accuracy: 0.7213\n",
            "Epoch 29/50\n",
            "438/438 [==============================] - 38s 86ms/step - loss: 0.4719 - accuracy: 0.8188 - val_loss: 0.6191 - val_accuracy: 0.7204\n",
            "Epoch 30/50\n",
            "438/438 [==============================] - 38s 86ms/step - loss: 0.4700 - accuracy: 0.8202 - val_loss: 0.6191 - val_accuracy: 0.7212\n",
            "Epoch 31/50\n",
            "438/438 [==============================] - 38s 86ms/step - loss: 0.4710 - accuracy: 0.8193 - val_loss: 0.6205 - val_accuracy: 0.7210\n",
            "Epoch 32/50\n",
            "438/438 [==============================] - 37s 86ms/step - loss: 0.4698 - accuracy: 0.8203 - val_loss: 0.6192 - val_accuracy: 0.7216\n",
            "Epoch 33/50\n",
            "438/438 [==============================] - 37s 86ms/step - loss: 0.4688 - accuracy: 0.8208 - val_loss: 0.6193 - val_accuracy: 0.7211\n",
            "Epoch 34/50\n",
            "438/438 [==============================] - 37s 85ms/step - loss: 0.4703 - accuracy: 0.8198 - val_loss: 0.6205 - val_accuracy: 0.7202\n",
            "Epoch 35/50\n",
            "438/438 [==============================] - 37s 85ms/step - loss: 0.4671 - accuracy: 0.8220 - val_loss: 0.6176 - val_accuracy: 0.7226\n",
            "Epoch 36/50\n",
            "438/438 [==============================] - 37s 85ms/step - loss: 0.4661 - accuracy: 0.8227 - val_loss: 0.6154 - val_accuracy: 0.7237\n",
            "Epoch 37/50\n",
            "438/438 [==============================] - 37s 86ms/step - loss: 0.4653 - accuracy: 0.8231 - val_loss: 0.6223 - val_accuracy: 0.7203\n",
            "Epoch 38/50\n",
            "438/438 [==============================] - 38s 86ms/step - loss: 0.4639 - accuracy: 0.8241 - val_loss: 0.6187 - val_accuracy: 0.7222\n",
            "Epoch 39/50\n",
            "438/438 [==============================] - 38s 86ms/step - loss: 0.4639 - accuracy: 0.8241 - val_loss: 0.6226 - val_accuracy: 0.7203\n",
            "Epoch 40/50\n",
            "438/438 [==============================] - 38s 86ms/step - loss: 0.4636 - accuracy: 0.8243 - val_loss: 0.6224 - val_accuracy: 0.7205\n",
            "Epoch 41/50\n",
            "438/438 [==============================] - 38s 86ms/step - loss: 0.4633 - accuracy: 0.8244 - val_loss: 0.6247 - val_accuracy: 0.7197\n",
            "Epoch 42/50\n",
            "438/438 [==============================] - 37s 86ms/step - loss: 0.4639 - accuracy: 0.8240 - val_loss: 0.6255 - val_accuracy: 0.7187\n",
            "Epoch 43/50\n",
            "438/438 [==============================] - 38s 86ms/step - loss: 0.4622 - accuracy: 0.8250 - val_loss: 0.6222 - val_accuracy: 0.7211\n",
            "Epoch 44/50\n",
            "438/438 [==============================] - 38s 86ms/step - loss: 0.4603 - accuracy: 0.8264 - val_loss: 0.6168 - val_accuracy: 0.7245\n",
            "Epoch 45/50\n",
            "438/438 [==============================] - 37s 86ms/step - loss: 0.4614 - accuracy: 0.8255 - val_loss: 0.6227 - val_accuracy: 0.7218\n",
            "Epoch 46/50\n",
            "438/438 [==============================] - 38s 86ms/step - loss: 0.4592 - accuracy: 0.8270 - val_loss: 0.6196 - val_accuracy: 0.7231\n",
            "Epoch 47/50\n",
            "438/438 [==============================] - 38s 86ms/step - loss: 0.4585 - accuracy: 0.8275 - val_loss: 0.6191 - val_accuracy: 0.7238\n",
            "Epoch 48/50\n",
            "438/438 [==============================] - 38s 86ms/step - loss: 0.4568 - accuracy: 0.8286 - val_loss: 0.6180 - val_accuracy: 0.7250\n",
            "Epoch 49/50\n",
            "438/438 [==============================] - 38s 86ms/step - loss: 0.4571 - accuracy: 0.8283 - val_loss: 0.6228 - val_accuracy: 0.7224\n",
            "Epoch 50/50\n",
            "438/438 [==============================] - 38s 86ms/step - loss: 0.4579 - accuracy: 0.8278 - val_loss: 0.6197 - val_accuracy: 0.7238\n"
          ]
        }
      ],
      "source": [
        "lr_schedule = tf.keras.optimizers.schedules.ExponentialDecay(\n",
        "    initial_learning_rate=1e-3,\n",
        "    decay_steps=10000,\n",
        "    decay_rate=0.9\n",
        ")\n",
        "model.compile(loss=\"binary_crossentropy\", optimizer=tf.keras.optimizers.Adam(learning_rate=lr_schedule), metrics=[\"accuracy\"])\n",
        "early_stopping = EarlyStopping(monitor='val_accuracy', patience=3, restore_best_weights=True)\n",
        "history_model_textcnn = model.fit(train_dataset, steps_per_epoch=len(train_dataset),\n",
        "                              epochs=50, \n",
        "                              validation_data=val_dataset, \n",
        "                              shuffle=True,\n",
        "                              validation_steps=len(val_dataset)\n",
        "                              )"
      ]
    },
    {
      "cell_type": "markdown",
      "source": [
        "### Evaluation"
      ],
      "metadata": {
        "id": "oj4eUaQjr7Um"
      }
    },
    {
      "cell_type": "code",
      "source": [
        "y_pred = np.ravel(model.predict((np.array(val_reviews),np.array(val_plots))))"
      ],
      "metadata": {
        "id": "eg1Nk_OVr2oB",
        "colab": {
          "base_uri": "https://localhost:8080/"
        },
        "outputId": "72fc961e-892a-4e5d-d8bc-0b573ed862af"
      },
      "execution_count": null,
      "outputs": [
        {
          "output_type": "stream",
          "name": "stdout",
          "text": [
            "WARNING:tensorflow:Layers in a Sequential model should only have a single input tensor. Received: inputs=[<tf.Tensor 'text_cnn_2/sequential_4/dense_7/Relu:0' shape=(None, 64) dtype=float32>, <tf.Tensor 'text_cnn_2/sequential_4/dense_7/Relu_1:0' shape=(None, 64) dtype=float32>]. Consider rewriting this model with the Functional API.\n"
          ]
        }
      ]
    },
    {
      "cell_type": "code",
      "source": [
        "y_pred_max = (y_pred>0.35)+0\n",
        "print(classification_report(val_labels, y_pred_max))"
      ],
      "metadata": {
        "id": "zBYx5XDMr9T0",
        "colab": {
          "base_uri": "https://localhost:8080/"
        },
        "outputId": "0c701bc8-79b2-45c7-88ab-7146817c5749"
      },
      "execution_count": null,
      "outputs": [
        {
          "output_type": "stream",
          "name": "stdout",
          "text": [
            "              precision    recall  f1-score   support\n",
            "\n",
            "           0       0.72      0.70      0.71     37011\n",
            "           1       0.71      0.73      0.72     37731\n",
            "\n",
            "    accuracy                           0.72     74742\n",
            "   macro avg       0.72      0.72      0.72     74742\n",
            "weighted avg       0.72      0.72      0.72     74742\n",
            "\n"
          ]
        }
      ]
    },
    {
      "cell_type": "code",
      "source": [
        "cf = confusion_matrix(val_labels, y_pred_max)\n",
        "print(cf)"
      ],
      "metadata": {
        "id": "_3vbltwwDp1X",
        "colab": {
          "base_uri": "https://localhost:8080/"
        },
        "outputId": "5dd72501-9f27-4264-a444-dd12473678e6"
      },
      "execution_count": null,
      "outputs": [
        {
          "output_type": "stream",
          "name": "stdout",
          "text": [
            "[[25971 11040]\n",
            " [10062 27669]]\n"
          ]
        }
      ]
    },
    {
      "cell_type": "code",
      "source": [
        "def plot_roc(y_pred,y):\n",
        "    # generate a no skill prediction (majority class)\n",
        "    ns_probs = [0 for _ in range(len(y))]\n",
        "    \n",
        "    # predict probabilities\n",
        "    probs = y_pred\n",
        "    \n",
        "    # calculate scores\n",
        "    ns_auc = roc_auc_score(y, ns_probs)\n",
        "    auc = roc_auc_score(y, probs)\n",
        "    \n",
        "    # summarize scores\n",
        "    #print('No Skill: ROC AUC=%.3f' % (ns_auc))\n",
        "    print(f'ROC AUC=%.3f' % (auc))\n",
        "    \n",
        "    # calculate roc curves\n",
        "    ns_fpr, ns_tpr, _ = roc_curve(y, ns_probs)\n",
        "    fpr, tpr, _ = roc_curve(y, probs)\n",
        "    \n",
        "    # plot the roc curve for the model\n",
        "    plt.plot(ns_fpr, ns_tpr, linestyle='--', label='Random')\n",
        "    plt.plot(fpr, tpr, marker='.')\n",
        "    \n",
        "    # axis labels\n",
        "    plt.xlabel('False Positive Rate')\n",
        "    plt.ylabel('True Positive Rate')\n",
        "    plt.title(f\"ROC Curve (AUC=0.74)\")\n",
        "    \n",
        "    # show the legend\n",
        "    plt.legend()\n",
        "    # show the plot\n",
        "    plt.show()"
      ],
      "metadata": {
        "id": "GQmaJ8KhOhe9"
      },
      "execution_count": null,
      "outputs": []
    },
    {
      "cell_type": "code",
      "source": [
        "plot_roc(y_pred, val_labels)"
      ],
      "metadata": {
        "colab": {
          "base_uri": "https://localhost:8080/",
          "height": 312
        },
        "id": "m1lTEJvdHMXN",
        "outputId": "a8b31288-b3d6-4c1f-efd4-9a7cf9c3dc69"
      },
      "execution_count": null,
      "outputs": [
        {
          "output_type": "stream",
          "name": "stdout",
          "text": [
            "ROC AUC=0.734\n"
          ]
        },
        {
          "output_type": "display_data",
          "data": {
            "text/plain": [
              "<Figure size 432x288 with 1 Axes>"
            ],
            "image/png": "[encoded data removed]"
          },
          "metadata": {
            "needs_background": "light"
          }
        }
      ]
    },
    {
      "cell_type": "code",
      "source": [
        ""
      ],
      "metadata": {
        "id": "oLQkQvIzHRQb"
      },
      "execution_count": null,
      "outputs": []
    }
  ],
  "metadata": {
    "accelerator": "GPU",
    "colab": {
      "collapsed_sections": [],
      "machine_shape": "hm",
      "name": "spoiler-detection-text-cnn-approach.ipynb",
      "provenance": []
    },
    "kernelspec": {
      "display_name": "Python 3",
      "language": "python",
      "name": "python3"
    },
    "language_info": {
      "codemirror_mode": {
        "name": "ipython",
        "version": 3
      },
      "file_extension": ".py",
      "mimetype": "text/x-python",
      "name": "python",
      "nbconvert_exporter": "python",
      "pygments_lexer": "ipython3",
      "version": "3.7.12"
    },
    "widgets": {
      "application/vnd.jupyter.widget-state+json": {
        "408eb4afd5144f559e9dbf5028994b32": {
          "model_module": "@jupyter-widgets/controls",
          "model_name": "HBoxModel",
          "model_module_version": "1.5.0",
          "state": {
            "_dom_classes": [],
            "_model_module": "@jupyter-widgets/controls",
            "_model_module_version": "1.5.0",
            "_model_name": "HBoxModel",
            "_view_count": null,
            "_view_module": "@jupyter-widgets/controls",
            "_view_module_version": "1.5.0",
            "_view_name": "HBoxView",
            "box_style": "",
            "children": [
              "IPY_MODEL_e1c2a173312b461b9f47b05219a6febb",
              "IPY_MODEL_74b03eb78b614775807c0d608f16509c",
              "IPY_MODEL_dfdf0dda86f94b55a1a84313f7a2a050"
            ],
            "layout": "IPY_MODEL_b1afd47fbaed4496ba4c1790c914586c"
          }
        },
        "e1c2a173312b461b9f47b05219a6febb": {
          "model_module": "@jupyter-widgets/controls",
          "model_name": "HTMLModel",
          "model_module_version": "1.5.0",
          "state": {
            "_dom_classes": [],
            "_model_module": "@jupyter-widgets/controls",
            "_model_module_version": "1.5.0",
            "_model_name": "HTMLModel",
            "_view_count": null,
            "_view_module": "@jupyter-widgets/controls",
            "_view_module_version": "1.5.0",
            "_view_name": "HTMLView",
            "description": "",
            "description_tooltip": null,
            "layout": "IPY_MODEL_3215b69431034b5c9053a2632dd94e9d",
            "placeholder": "​",
            "style": "IPY_MODEL_405c707b9e694ee8b3e3c48dc403254c",
            "value": "Pandas Apply: 100%"
          }
        },
        "74b03eb78b614775807c0d608f16509c": {
          "model_module": "@jupyter-widgets/controls",
          "model_name": "FloatProgressModel",
          "model_module_version": "1.5.0",
          "state": {
            "_dom_classes": [],
            "_model_module": "@jupyter-widgets/controls",
            "_model_module_version": "1.5.0",
            "_model_name": "FloatProgressModel",
            "_view_count": null,
            "_view_module": "@jupyter-widgets/controls",
            "_view_module_version": "1.5.0",
            "_view_name": "ProgressView",
            "bar_style": "success",
            "description": "",
            "description_tooltip": null,
            "layout": "IPY_MODEL_dd686974f8af4c9595a069b519a31498",
            "max": 298968,
            "min": 0,
            "orientation": "horizontal",
            "style": "IPY_MODEL_8fe28cebebed4738b255f204c39feef9",
            "value": 298968
          }
        },
        "dfdf0dda86f94b55a1a84313f7a2a050": {
          "model_module": "@jupyter-widgets/controls",
          "model_name": "HTMLModel",
          "model_module_version": "1.5.0",
          "state": {
            "_dom_classes": [],
            "_model_module": "@jupyter-widgets/controls",
            "_model_module_version": "1.5.0",
            "_model_name": "HTMLModel",
            "_view_count": null,
            "_view_module": "@jupyter-widgets/controls",
            "_view_module_version": "1.5.0",
            "_view_name": "HTMLView",
            "description": "",
            "description_tooltip": null,
            "layout": "IPY_MODEL_7098fcac92404684ae0b979db10ef546",
            "placeholder": "​",
            "style": "IPY_MODEL_cb6af9b35b0c4b51b13b0c601c561437",
            "value": " 298968/298968 [03:07&lt;00:00, 1632.04it/s]"
          }
        },
        "b1afd47fbaed4496ba4c1790c914586c": {
          "model_module": "@jupyter-widgets/base",
          "model_name": "LayoutModel",
          "model_module_version": "1.2.0",
          "state": {
            "_model_module": "@jupyter-widgets/base",
            "_model_module_version": "1.2.0",
            "_model_name": "LayoutModel",
            "_view_count": null,
            "_view_module": "@jupyter-widgets/base",
            "_view_module_version": "1.2.0",
            "_view_name": "LayoutView",
            "align_content": null,
            "align_items": null,
            "align_self": null,
            "border": null,
            "bottom": null,
            "display": null,
            "flex": null,
            "flex_flow": null,
            "grid_area": null,
            "grid_auto_columns": null,
            "grid_auto_flow": null,
            "grid_auto_rows": null,
            "grid_column": null,
            "grid_gap": null,
            "grid_row": null,
            "grid_template_areas": null,
            "grid_template_columns": null,
            "grid_template_rows": null,
            "height": null,
            "justify_content": null,
            "justify_items": null,
            "left": null,
            "margin": null,
            "max_height": null,
            "max_width": null,
            "min_height": null,
            "min_width": null,
            "object_fit": null,
            "object_position": null,
            "order": null,
            "overflow": null,
            "overflow_x": null,
            "overflow_y": null,
            "padding": null,
            "right": null,
            "top": null,
            "visibility": null,
            "width": null
          }
        },
        "3215b69431034b5c9053a2632dd94e9d": {
          "model_module": "@jupyter-widgets/base",
          "model_name": "LayoutModel",
          "model_module_version": "1.2.0",
          "state": {
            "_model_module": "@jupyter-widgets/base",
            "_model_module_version": "1.2.0",
            "_model_name": "LayoutModel",
            "_view_count": null,
            "_view_module": "@jupyter-widgets/base",
            "_view_module_version": "1.2.0",
            "_view_name": "LayoutView",
            "align_content": null,
            "align_items": null,
            "align_self": null,
            "border": null,
            "bottom": null,
            "display": null,
            "flex": null,
            "flex_flow": null,
            "grid_area": null,
            "grid_auto_columns": null,
            "grid_auto_flow": null,
            "grid_auto_rows": null,
            "grid_column": null,
            "grid_gap": null,
            "grid_row": null,
            "grid_template_areas": null,
            "grid_template_columns": null,
            "grid_template_rows": null,
            "height": null,
            "justify_content": null,
            "justify_items": null,
            "left": null,
            "margin": null,
            "max_height": null,
            "max_width": null,
            "min_height": null,
            "min_width": null,
            "object_fit": null,
            "object_position": null,
            "order": null,
            "overflow": null,
            "overflow_x": null,
            "overflow_y": null,
            "padding": null,
            "right": null,
            "top": null,
            "visibility": null,
            "width": null
          }
        },
        "405c707b9e694ee8b3e3c48dc403254c": {
          "model_module": "@jupyter-widgets/controls",
          "model_name": "DescriptionStyleModel",
          "model_module_version": "1.5.0",
          "state": {
            "_model_module": "@jupyter-widgets/controls",
            "_model_module_version": "1.5.0",
            "_model_name": "DescriptionStyleModel",
            "_view_count": null,
            "_view_module": "@jupyter-widgets/base",
            "_view_module_version": "1.2.0",
            "_view_name": "StyleView",
            "description_width": ""
          }
        },
        "dd686974f8af4c9595a069b519a31498": {
          "model_module": "@jupyter-widgets/base",
          "model_name": "LayoutModel",
          "model_module_version": "1.2.0",
          "state": {
            "_model_module": "@jupyter-widgets/base",
            "_model_module_version": "1.2.0",
            "_model_name": "LayoutModel",
            "_view_count": null,
            "_view_module": "@jupyter-widgets/base",
            "_view_module_version": "1.2.0",
            "_view_name": "LayoutView",
            "align_content": null,
            "align_items": null,
            "align_self": null,
            "border": null,
            "bottom": null,
            "display": null,
            "flex": null,
            "flex_flow": null,
            "grid_area": null,
            "grid_auto_columns": null,
            "grid_auto_flow": null,
            "grid_auto_rows": null,
            "grid_column": null,
            "grid_gap": null,
            "grid_row": null,
            "grid_template_areas": null,
            "grid_template_columns": null,
            "grid_template_rows": null,
            "height": null,
            "justify_content": null,
            "justify_items": null,
            "left": null,
            "margin": null,
            "max_height": null,
            "max_width": null,
            "min_height": null,
            "min_width": null,
            "object_fit": null,
            "object_position": null,
            "order": null,
            "overflow": null,
            "overflow_x": null,
            "overflow_y": null,
            "padding": null,
            "right": null,
            "top": null,
            "visibility": null,
            "width": null
          }
        },
        "8fe28cebebed4738b255f204c39feef9": {
          "model_module": "@jupyter-widgets/controls",
          "model_name": "ProgressStyleModel",
          "model_module_version": "1.5.0",
          "state": {
            "_model_module": "@jupyter-widgets/controls",
            "_model_module_version": "1.5.0",
            "_model_name": "ProgressStyleModel",
            "_view_count": null,
            "_view_module": "@jupyter-widgets/base",
            "_view_module_version": "1.2.0",
            "_view_name": "StyleView",
            "bar_color": null,
            "description_width": ""
          }
        },
        "7098fcac92404684ae0b979db10ef546": {
          "model_module": "@jupyter-widgets/base",
          "model_name": "LayoutModel",
          "model_module_version": "1.2.0",
          "state": {
            "_model_module": "@jupyter-widgets/base",
            "_model_module_version": "1.2.0",
            "_model_name": "LayoutModel",
            "_view_count": null,
            "_view_module": "@jupyter-widgets/base",
            "_view_module_version": "1.2.0",
            "_view_name": "LayoutView",
            "align_content": null,
            "align_items": null,
            "align_self": null,
            "border": null,
            "bottom": null,
            "display": null,
            "flex": null,
            "flex_flow": null,
            "grid_area": null,
            "grid_auto_columns": null,
            "grid_auto_flow": null,
            "grid_auto_rows": null,
            "grid_column": null,
            "grid_gap": null,
            "grid_row": null,
            "grid_template_areas": null,
            "grid_template_columns": null,
            "grid_template_rows": null,
            "height": null,
            "justify_content": null,
            "justify_items": null,
            "left": null,
            "margin": null,
            "max_height": null,
            "max_width": null,
            "min_height": null,
            "min_width": null,
            "object_fit": null,
            "object_position": null,
            "order": null,
            "overflow": null,
            "overflow_x": null,
            "overflow_y": null,
            "padding": null,
            "right": null,
            "top": null,
            "visibility": null,
            "width": null
          }
        },
        "cb6af9b35b0c4b51b13b0c601c561437": {
          "model_module": "@jupyter-widgets/controls",
          "model_name": "DescriptionStyleModel",
          "model_module_version": "1.5.0",
          "state": {
            "_model_module": "@jupyter-widgets/controls",
            "_model_module_version": "1.5.0",
            "_model_name": "DescriptionStyleModel",
            "_view_count": null,
            "_view_module": "@jupyter-widgets/base",
            "_view_module_version": "1.2.0",
            "_view_name": "StyleView",
            "description_width": ""
          }
        },
        "7b91d19400234db2b7da38295bd0c9b0": {
          "model_module": "@jupyter-widgets/controls",
          "model_name": "HBoxModel",
          "model_module_version": "1.5.0",
          "state": {
            "_dom_classes": [],
            "_model_module": "@jupyter-widgets/controls",
            "_model_module_version": "1.5.0",
            "_model_name": "HBoxModel",
            "_view_count": null,
            "_view_module": "@jupyter-widgets/controls",
            "_view_module_version": "1.5.0",
            "_view_name": "HBoxView",
            "box_style": "",
            "children": [
              "IPY_MODEL_baed008675c04dfc848dc205861f4680",
              "IPY_MODEL_92ecb019d3e947c7a7f5e0a6d8b32970",
              "IPY_MODEL_f572c222bf7c4c1e92844188f16917f7"
            ],
            "layout": "IPY_MODEL_285066ec08a24bd49b67a08d9eb31ab4"
          }
        },
        "baed008675c04dfc848dc205861f4680": {
          "model_module": "@jupyter-widgets/controls",
          "model_name": "HTMLModel",
          "model_module_version": "1.5.0",
          "state": {
            "_dom_classes": [],
            "_model_module": "@jupyter-widgets/controls",
            "_model_module_version": "1.5.0",
            "_model_name": "HTMLModel",
            "_view_count": null,
            "_view_module": "@jupyter-widgets/controls",
            "_view_module_version": "1.5.0",
            "_view_name": "HTMLView",
            "description": "",
            "description_tooltip": null,
            "layout": "IPY_MODEL_6c0d17dac81244f9ae65b8e0b618a4dd",
            "placeholder": "​",
            "style": "IPY_MODEL_b42ccb9e5a6148e29f7b26ee48427829",
            "value": "Pandas Apply: 100%"
          }
        },
        "92ecb019d3e947c7a7f5e0a6d8b32970": {
          "model_module": "@jupyter-widgets/controls",
          "model_name": "FloatProgressModel",
          "model_module_version": "1.5.0",
          "state": {
            "_dom_classes": [],
            "_model_module": "@jupyter-widgets/controls",
            "_model_module_version": "1.5.0",
            "_model_name": "FloatProgressModel",
            "_view_count": null,
            "_view_module": "@jupyter-widgets/controls",
            "_view_module_version": "1.5.0",
            "_view_name": "ProgressView",
            "bar_style": "success",
            "description": "",
            "description_tooltip": null,
            "layout": "IPY_MODEL_26f903fb65854305a89e587ab28a7796",
            "max": 298968,
            "min": 0,
            "orientation": "horizontal",
            "style": "IPY_MODEL_0b32a6d5af684270babd3247a875d7a8",
            "value": 298968
          }
        },
        "f572c222bf7c4c1e92844188f16917f7": {
          "model_module": "@jupyter-widgets/controls",
          "model_name": "HTMLModel",
          "model_module_version": "1.5.0",
          "state": {
            "_dom_classes": [],
            "_model_module": "@jupyter-widgets/controls",
            "_model_module_version": "1.5.0",
            "_model_name": "HTMLModel",
            "_view_count": null,
            "_view_module": "@jupyter-widgets/controls",
            "_view_module_version": "1.5.0",
            "_view_name": "HTMLView",
            "description": "",
            "description_tooltip": null,
            "layout": "IPY_MODEL_3f35a49b0a6d40b0adc294e8dac9cb71",
            "placeholder": "​",
            "style": "IPY_MODEL_1287b85d5eb847f2876242a23d2146d3",
            "value": " 298968/298968 [01:12&lt;00:00, 4120.46it/s]"
          }
        },
        "285066ec08a24bd49b67a08d9eb31ab4": {
          "model_module": "@jupyter-widgets/base",
          "model_name": "LayoutModel",
          "model_module_version": "1.2.0",
          "state": {
            "_model_module": "@jupyter-widgets/base",
            "_model_module_version": "1.2.0",
            "_model_name": "LayoutModel",
            "_view_count": null,
            "_view_module": "@jupyter-widgets/base",
            "_view_module_version": "1.2.0",
            "_view_name": "LayoutView",
            "align_content": null,
            "align_items": null,
            "align_self": null,
            "border": null,
            "bottom": null,
            "display": null,
            "flex": null,
            "flex_flow": null,
            "grid_area": null,
            "grid_auto_columns": null,
            "grid_auto_flow": null,
            "grid_auto_rows": null,
            "grid_column": null,
            "grid_gap": null,
            "grid_row": null,
            "grid_template_areas": null,
            "grid_template_columns": null,
            "grid_template_rows": null,
            "height": null,
            "justify_content": null,
            "justify_items": null,
            "left": null,
            "margin": null,
            "max_height": null,
            "max_width": null,
            "min_height": null,
            "min_width": null,
            "object_fit": null,
            "object_position": null,
            "order": null,
            "overflow": null,
            "overflow_x": null,
            "overflow_y": null,
            "padding": null,
            "right": null,
            "top": null,
            "visibility": null,
            "width": null
          }
        },
        "6c0d17dac81244f9ae65b8e0b618a4dd": {
          "model_module": "@jupyter-widgets/base",
          "model_name": "LayoutModel",
          "model_module_version": "1.2.0",
          "state": {
            "_model_module": "@jupyter-widgets/base",
            "_model_module_version": "1.2.0",
            "_model_name": "LayoutModel",
            "_view_count": null,
            "_view_module": "@jupyter-widgets/base",
            "_view_module_version": "1.2.0",
            "_view_name": "LayoutView",
            "align_content": null,
            "align_items": null,
            "align_self": null,
            "border": null,
            "bottom": null,
            "display": null,
            "flex": null,
            "flex_flow": null,
            "grid_area": null,
            "grid_auto_columns": null,
            "grid_auto_flow": null,
            "grid_auto_rows": null,
            "grid_column": null,
            "grid_gap": null,
            "grid_row": null,
            "grid_template_areas": null,
            "grid_template_columns": null,
            "grid_template_rows": null,
            "height": null,
            "justify_content": null,
            "justify_items": null,
            "left": null,
            "margin": null,
            "max_height": null,
            "max_width": null,
            "min_height": null,
            "min_width": null,
            "object_fit": null,
            "object_position": null,
            "order": null,
            "overflow": null,
            "overflow_x": null,
            "overflow_y": null,
            "padding": null,
            "right": null,
            "top": null,
            "visibility": null,
            "width": null
          }
        },
        "b42ccb9e5a6148e29f7b26ee48427829": {
          "model_module": "@jupyter-widgets/controls",
          "model_name": "DescriptionStyleModel",
          "model_module_version": "1.5.0",
          "state": {
            "_model_module": "@jupyter-widgets/controls",
            "_model_module_version": "1.5.0",
            "_model_name": "DescriptionStyleModel",
            "_view_count": null,
            "_view_module": "@jupyter-widgets/base",
            "_view_module_version": "1.2.0",
            "_view_name": "StyleView",
            "description_width": ""
          }
        },
        "26f903fb65854305a89e587ab28a7796": {
          "model_module": "@jupyter-widgets/base",
          "model_name": "LayoutModel",
          "model_module_version": "1.2.0",
          "state": {
            "_model_module": "@jupyter-widgets/base",
            "_model_module_version": "1.2.0",
            "_model_name": "LayoutModel",
            "_view_count": null,
            "_view_module": "@jupyter-widgets/base",
            "_view_module_version": "1.2.0",
            "_view_name": "LayoutView",
            "align_content": null,
            "align_items": null,
            "align_self": null,
            "border": null,
            "bottom": null,
            "display": null,
            "flex": null,
            "flex_flow": null,
            "grid_area": null,
            "grid_auto_columns": null,
            "grid_auto_flow": null,
            "grid_auto_rows": null,
            "grid_column": null,
            "grid_gap": null,
            "grid_row": null,
            "grid_template_areas": null,
            "grid_template_columns": null,
            "grid_template_rows": null,
            "height": null,
            "justify_content": null,
            "justify_items": null,
            "left": null,
            "margin": null,
            "max_height": null,
            "max_width": null,
            "min_height": null,
            "min_width": null,
            "object_fit": null,
            "object_position": null,
            "order": null,
            "overflow": null,
            "overflow_x": null,
            "overflow_y": null,
            "padding": null,
            "right": null,
            "top": null,
            "visibility": null,
            "width": null
          }
        },
        "0b32a6d5af684270babd3247a875d7a8": {
          "model_module": "@jupyter-widgets/controls",
          "model_name": "ProgressStyleModel",
          "model_module_version": "1.5.0",
          "state": {
            "_model_module": "@jupyter-widgets/controls",
            "_model_module_version": "1.5.0",
            "_model_name": "ProgressStyleModel",
            "_view_count": null,
            "_view_module": "@jupyter-widgets/base",
            "_view_module_version": "1.2.0",
            "_view_name": "StyleView",
            "bar_color": null,
            "description_width": ""
          }
        },
        "3f35a49b0a6d40b0adc294e8dac9cb71": {
          "model_module": "@jupyter-widgets/base",
          "model_name": "LayoutModel",
          "model_module_version": "1.2.0",
          "state": {
            "_model_module": "@jupyter-widgets/base",
            "_model_module_version": "1.2.0",
            "_model_name": "LayoutModel",
            "_view_count": null,
            "_view_module": "@jupyter-widgets/base",
            "_view_module_version": "1.2.0",
            "_view_name": "LayoutView",
            "align_content": null,
            "align_items": null,
            "align_self": null,
            "border": null,
            "bottom": null,
            "display": null,
            "flex": null,
            "flex_flow": null,
            "grid_area": null,
            "grid_auto_columns": null,
            "grid_auto_flow": null,
            "grid_auto_rows": null,
            "grid_column": null,
            "grid_gap": null,
            "grid_row": null,
            "grid_template_areas": null,
            "grid_template_columns": null,
            "grid_template_rows": null,
            "height": null,
            "justify_content": null,
            "justify_items": null,
            "left": null,
            "margin": null,
            "max_height": null,
            "max_width": null,
            "min_height": null,
            "min_width": null,
            "object_fit": null,
            "object_position": null,
            "order": null,
            "overflow": null,
            "overflow_x": null,
            "overflow_y": null,
            "padding": null,
            "right": null,
            "top": null,
            "visibility": null,
            "width": null
          }
        },
        "1287b85d5eb847f2876242a23d2146d3": {
          "model_module": "@jupyter-widgets/controls",
          "model_name": "DescriptionStyleModel",
          "model_module_version": "1.5.0",
          "state": {
            "_model_module": "@jupyter-widgets/controls",
            "_model_module_version": "1.5.0",
            "_model_name": "DescriptionStyleModel",
            "_view_count": null,
            "_view_module": "@jupyter-widgets/base",
            "_view_module_version": "1.2.0",
            "_view_name": "StyleView",
            "description_width": ""
          }
        }
      }
    }
  },
  "nbformat": 4,
  "nbformat_minor": 0
}